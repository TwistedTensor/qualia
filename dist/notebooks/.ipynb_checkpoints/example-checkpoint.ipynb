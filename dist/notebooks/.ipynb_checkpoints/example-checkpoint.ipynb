{
 "cells": [
  {
   "cell_type": "code",
   "execution_count": 42,
   "metadata": {},
   "outputs": [],
   "source": [
    "import mapper"
   ]
  },
  {
   "cell_type": "code",
   "execution_count": 43,
   "metadata": {},
   "outputs": [],
   "source": [
    "c = mapper.shapes.circle()\n",
    "filtered = mapper.filters.Gauss_density(c,1)"
   ]
  },
  {
   "cell_type": "code",
   "execution_count": 19,
   "metadata": {},
   "outputs": [
    {
     "data": {
      "text/plain": [
       "\u001b[0;31mInit signature:\u001b[0m \u001b[0mmapper\u001b[0m\u001b[0;34m.\u001b[0m\u001b[0maverage_linkage\u001b[0m\u001b[0;34m(\u001b[0m\u001b[0;34m)\u001b[0m\u001b[0;34m\u001b[0m\u001b[0m\n",
       "\u001b[0;31mSource:\u001b[0m        \n",
       "\u001b[0;32mclass\u001b[0m \u001b[0maverage_linkage\u001b[0m\u001b[0;34m:\u001b[0m\u001b[0;34m\u001b[0m\n",
       "\u001b[0;34m\u001b[0m  \u001b[0;34m'''\u001b[0m\n",
       "\u001b[0;34m  Helper class. Wraps a call to average linkage clustering and provides a\u001b[0m\n",
       "\u001b[0;34m  readable description.\u001b[0m\n",
       "\u001b[0;34m  '''\u001b[0m\u001b[0;34m\u001b[0m\n",
       "\u001b[0;34m\u001b[0m  \u001b[0;32mdef\u001b[0m \u001b[0m__call__\u001b[0m\u001b[0;34m(\u001b[0m\u001b[0mself\u001b[0m\u001b[0;34m,\u001b[0m \u001b[0mX\u001b[0m\u001b[0;34m)\u001b[0m\u001b[0;34m:\u001b[0m\u001b[0;34m\u001b[0m\n",
       "\u001b[0;34m\u001b[0m    \u001b[0;32mreturn\u001b[0m \u001b[0mlinkage\u001b[0m\u001b[0;34m(\u001b[0m\u001b[0mX\u001b[0m\u001b[0;34m,\u001b[0m \u001b[0mmethod\u001b[0m\u001b[0;34m=\u001b[0m\u001b[0;34m'average'\u001b[0m\u001b[0;34m)\u001b[0m\u001b[0;34m\u001b[0m\n",
       "\u001b[0;34m\u001b[0m  \u001b[0;32mdef\u001b[0m \u001b[0m__str__\u001b[0m\u001b[0;34m(\u001b[0m\u001b[0mself\u001b[0m\u001b[0;34m)\u001b[0m\u001b[0;34m:\u001b[0m\u001b[0;34m\u001b[0m\n",
       "\u001b[0;34m\u001b[0m    \u001b[0;32mreturn\u001b[0m \u001b[0;34m'Average linkage clustering'\u001b[0m\u001b[0;34m\u001b[0m\u001b[0m\n",
       "\u001b[0;31mFile:\u001b[0m           ~/anaconda/lib/python3.6/site-packages/mapper/_mapper.py\n",
       "\u001b[0;31mType:\u001b[0m           type\n"
      ]
     },
     "metadata": {},
     "output_type": "display_data"
    }
   ],
   "source": [
    "def get_intervals(filtered,n=10,overlap=.5):\n",
    "    mn = filtered.min()\n",
    "    mx = filtered.max()\n",
    "    tot_len = mx - mn\n",
    "    I_0 = tot_len / n\n",
    "    x = overlap*I_0/(2-overlap)\n",
    "    "
   ]
  },
  {
   "cell_type": "code",
   "execution_count": 130,
   "metadata": {},
   "outputs": [],
   "source": [
    "def data_index(self, level):\n",
    "    '''\n",
    "    Return the indices to the data points for a given level identifier.\n",
    "\n",
    "    @param level: the level identifier\n",
    "    @type level: L{level}\n",
    "    @return: data indices\n",
    "    @rtype: C{numpy.ndarray( dtype=int )}\n",
    "    '''\n",
    "    idx_min, idx_max = self._indexminmax(level.index)\n",
    "    return self.sortorder[int(idx_min):int(idx_max)]"
   ]
  },
  {
   "cell_type": "code",
   "execution_count": 139,
   "metadata": {},
   "outputs": [],
   "source": [
    "def _sample_quantile(self, p):\n",
    "    '''\n",
    "    Method for the sample quantile. The formula is the same as\n",
    "    R's 'quantile' method with parameter type=8.\n",
    "\n",
    "    See\n",
    "    http://stat.ethz.ch/R-manual/R-devel/library/stats/html/quantile.html\n",
    "\n",
    "    (Type 8 is cited as recommended.)\n",
    "    '''\n",
    "    m = (p+1)/3.\n",
    "    h, = self.n*p+m-1# -1: index-0-based, different from the R\n",
    "    # documentation, which is index-1-based\n",
    "    if h<0:\n",
    "        return self.filt[self.sortorder[0]]\n",
    "    elif h>=self.n-1:\n",
    "        return self.filt[self.sortorder[-1]]\n",
    "    else:\n",
    "        f, j = np.modf(h)\n",
    "        return self.filt[self.sortorder[int(j)]] + f * \\\n",
    "            (self.filt[self.sortorder[int(j+1)]]-self.filt[self.sortorder[int(j)]])"
   ]
  },
  {
   "cell_type": "code",
   "execution_count": 131,
   "metadata": {},
   "outputs": [],
   "source": [
    "import types"
   ]
  },
  {
   "cell_type": "code",
   "execution_count": 140,
   "metadata": {},
   "outputs": [],
   "source": [
    "cov = mapper.cover.balanced_cover_1d()\n",
    "cov.data_index = types.MethodType(data_index,cov)\n",
    "cov._sample_quantile = types.MethodType(_sample_quantile,cov)"
   ]
  },
  {
   "cell_type": "code",
   "execution_count": 222,
   "metadata": {},
   "outputs": [
    {
     "data": {
      "text/plain": [
       "\u001b[0;31mInit signature:\u001b[0m \u001b[0mmapper\u001b[0m\u001b[0;34m.\u001b[0m\u001b[0mcutoff\u001b[0m\u001b[0;34m.\u001b[0m\u001b[0mfirst_gap\u001b[0m\u001b[0;34m(\u001b[0m\u001b[0mgap\u001b[0m\u001b[0;34m)\u001b[0m\u001b[0;34m\u001b[0m\u001b[0m\n",
       "\u001b[0;31mDocstring:\u001b[0m     \n",
       "Look for the first gap of size C{gap} or bigger in the\n",
       "heights of the clustering tree.\n",
       "\n",
       "This is similar to L{cluster_cutoff_histo}\n",
       "with M{gap = diam / num_bins}.\n",
       "\n",
       "@param gap: gap size\n",
       "@type gap: float S{>=}0\n",
       "\u001b[0;31mFile:\u001b[0m           ~/anaconda/lib/python3.6/site-packages/mapper/cutoff.py\n",
       "\u001b[0;31mType:\u001b[0m           type\n"
      ]
     },
     "metadata": {},
     "output_type": "display_data"
    }
   ],
   "source": [
    "mapper.cutoff.first_gap?"
   ]
  },
  {
   "cell_type": "code",
   "execution_count": 224,
   "metadata": {},
   "outputs": [],
   "source": [
    "cutoff = mapper.cutoff.first_gap(.1)"
   ]
  },
  {
   "cell_type": "code",
   "execution_count": 225,
   "metadata": {},
   "outputs": [
    {
     "name": "stdout",
     "output_type": "stream",
     "text": [
      "Number of CPU cores present: 8Start Mapper thread.Start Mapper thread.\n",
      "\n",
      "Start Mapper thread.Start Mapper thread.Start Mapper thread.Start Mapper thread.Start Mapper thread.Start Mapper thread.\n",
      "\n",
      "\n",
      "\n",
      "\n",
      "\n",
      "\n",
      "Mapper: Filter range in dimension 0: [0.07, 0.08]\n",
      "Mapper: Cover: Balanced cover with 10 intervals and 50.0% overlap.\n",
      "Mapper: Clustering: Single linkage clustering\n",
      "Mapper: Cutoff: First gap of relative width 0.1\n",
      "Level: (0,)\n",
      "Level: (1,)Filter level (0,) has 36 points.\n",
      "\n",
      "Filter level (1,) has 36 points.Filter level (2,) has 37 points.Level: (2,)\n",
      "\n",
      "Filter level (3,) has 37 points.\n",
      "\n",
      "Filter level (4,) has 36 points.Level: (3,)Filter level (5,) has 36 points.\n",
      "\n",
      "\n",
      "Filter level (6,) has 37 points.Level: (4,)\n",
      "Level: (5,)\n",
      "Level: (6,)\n",
      "Filter level (7,) has 37 points.Filter level (8,) has 36 points.\n",
      "Filter level (9,) has 36 points.Level: (7,)\n",
      "\n",
      "\n",
      "\n",
      "Level: (8,)\n",
      "Level: (9,)\n",
      "There are 18 nodes.\n",
      "Generate the simplicial complex.\n",
      "Collect simplices of dimension 1:\n",
      "There are 18 simplices of dimension 1.\n",
      "Collect simplices of dimension 2:\n",
      "There are 0 simplices of dimension 2.\n",
      "Dimension: 1\n"
     ]
    }
   ],
   "source": [
    "M = mapper.mapper(c,filtered,cov,cutoff)"
   ]
  },
  {
   "cell_type": "code",
   "execution_count": 211,
   "metadata": {},
   "outputs": [],
   "source": [
    "def to_d3js_graph(self):\n",
    "    \"\"\"\n",
    "    Convert the 1-skeleton of a L{mapper_output} to a dictionary\n",
    "    designed for exporting to a json package for use with the d3.js\n",
    "    force-layout graph visualisation system.\n",
    "    \"\"\"\n",
    "    G = {}\n",
    "\n",
    "    G['nodes'] = [{'id': i, 'level': n.level, 'members':\n",
    "                      n.points.tolist(), 'attribute': n.attribute.item()}\n",
    "                     for (i,n) in enumerate(self.nodes)]\n",
    "\n",
    "    G['links'] = [{'source': e[0], 'target': e[1], 'wt':\n",
    "                   self.simplices[1][e]} for e in\n",
    "                  self.simplices[1].keys()]\n",
    "\n",
    "    return G"
   ]
  },
  {
   "cell_type": "code",
   "execution_count": 226,
   "metadata": {},
   "outputs": [],
   "source": [
    "M.to_d3js_graph = types.MethodType(to_d3js_graph,M)"
   ]
  },
  {
   "cell_type": "code",
   "execution_count": 227,
   "metadata": {},
   "outputs": [],
   "source": [
    "g = M.to_d3js_graph()"
   ]
  },
  {
   "cell_type": "code",
   "execution_count": 183,
   "metadata": {},
   "outputs": [],
   "source": [
    "import zmq\n",
    "context = zmq.Context()"
   ]
  },
  {
   "cell_type": "code",
   "execution_count": 184,
   "metadata": {},
   "outputs": [],
   "source": [
    "socket = context.socket(zmq.PAIR)\n",
    "socket.connect('tcp://127.0.0.1:5560')"
   ]
  },
  {
   "cell_type": "code",
   "execution_count": 185,
   "metadata": {},
   "outputs": [],
   "source": [
    "graph = {\n",
    "    'nodes':[\n",
    "        {'id':'a','color':'red'},\n",
    "        {'id':'b'},\n",
    "        {'id':'c','color':'red'},\n",
    "        {'id':'d'}\n",
    "    ],\n",
    "    'links':[\n",
    "        {'source':'a','target':'b'},\n",
    "        {'source':'a','target':'c'},\n",
    "        {'source':'d','target':'c'},\n",
    "    ],\n",
    "    'nodeColor':'val'\n",
    "}\n",
    "cgm = {\n",
    "    'type':'ws/CHANGE_GRAPH',\n",
    "    'payload':graph\n",
    "}\n",
    "socket.send_json(cgm)"
   ]
  },
  {
   "cell_type": "code",
   "execution_count": 228,
   "metadata": {},
   "outputs": [],
   "source": [
    "cgm = {\n",
    "    'type':'ws/CHANGE_GRAPH',\n",
    "    'payload':g\n",
    "}\n",
    "socket.send_json(cgm)"
   ]
  },
  {
   "cell_type": "code",
   "execution_count": null,
   "metadata": {},
   "outputs": [],
   "source": []
  }
 ],
 "metadata": {
  "kernelspec": {
   "display_name": "Python 3",
   "language": "python",
   "name": "python3"
  },
  "language_info": {
   "codemirror_mode": {
    "name": "ipython",
    "version": 3
   },
   "file_extension": ".py",
   "mimetype": "text/x-python",
   "name": "python",
   "nbconvert_exporter": "python",
   "pygments_lexer": "ipython3",
   "version": "3.6.1"
  }
 },
 "nbformat": 4,
 "nbformat_minor": 2
}
